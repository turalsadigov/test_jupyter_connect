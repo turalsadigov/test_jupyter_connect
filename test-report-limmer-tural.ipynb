{
 "cells": [
  {
   "cell_type": "markdown",
   "id": "732be6c7",
   "metadata": {},
   "source": [
    "# my title"
   ]
  },
  {
   "cell_type": "code",
   "execution_count": 1,
   "id": "3302b505",
   "metadata": {},
   "outputs": [
    {
     "data": {
      "text/plain": [
       "6.907755278982137"
      ]
     },
     "execution_count": 1,
     "metadata": {},
     "output_type": "execute_result"
    }
   ],
   "source": [
    "import numpy as np\n",
    "np.log(1000)"
   ]
  },
  {
   "cell_type": "code",
   "execution_count": 2,
   "id": "6e6f7ca8",
   "metadata": {},
   "outputs": [
    {
     "name": "stdout",
     "output_type": "stream",
     "text": [
      "new\n"
     ]
    }
   ],
   "source": [
    "print('new')"
   ]
  }
 ],
 "metadata": {
  "kernelspec": {
   "display_name": "Python 3 (ipykernel)",
   "language": "python",
   "name": "python3"
  },
  "language_info": {
   "codemirror_mode": {
    "name": "ipython",
    "version": 3
   },
   "file_extension": ".py",
   "mimetype": "text/x-python",
   "name": "python",
   "nbconvert_exporter": "python",
   "pygments_lexer": "ipython3",
   "version": "3.10.10"
  }
 },
 "nbformat": 4,
 "nbformat_minor": 5
}
